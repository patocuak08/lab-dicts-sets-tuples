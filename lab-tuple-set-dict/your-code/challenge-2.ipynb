{
 "cells": [
  {
   "cell_type": "markdown",
   "metadata": {},
   "source": [
    "## Challenge 2: Sets\n",
    "\n",
    "There are a lot to learn about Python Sets and the information presented in the lesson is limited due to its length. To learn Python Sets in depth you are strongly encouraged to review the W3Schools tutorial on [Python Sets Examples and Methods](https://www.w3schools.com/python/python_sets.asp) before you work on this lab. Some difficult questions in this lab have their solutions in the W3Schools tutorial.\n",
    "\n",
    "#### First, import the Python `random` libary"
   ]
  },
  {
   "cell_type": "code",
   "execution_count": 2,
   "metadata": {},
   "outputs": [],
   "source": [
    "import random"
   ]
  },
  {
   "cell_type": "markdown",
   "metadata": {},
   "source": [
    "#### In the cell below, create a list named `sample_list_1` with 80 random values. \n",
    "\n",
    "Requirements:\n",
    "\n",
    "* Each value is an integer falling between 0 and 100.\n",
    "* Each value in the list is unique.\n",
    "\n",
    "Print `sample_list_1` to review its values\n",
    "\n",
    "*Hint: use `random.sample` ([reference](https://docs.python.org/3/library/random.html#random.sample)).*"
   ]
  },
  {
   "cell_type": "code",
   "execution_count": 3,
   "metadata": {},
   "outputs": [
    {
     "name": "stdout",
     "output_type": "stream",
     "text": [
      "[59, 31, 24, 72, 15, 34, 75, 38, 95, 43, 53, 73, 27, 60, 41, 8, 89, 13, 77, 90, 0, 11, 25, 4, 98, 10, 50, 6, 12, 97, 51, 81, 2, 35, 47, 74, 9, 29, 46, 96, 62, 94, 79, 20, 54, 65, 45, 91, 78, 26, 30, 68, 33, 55, 88, 17, 85, 93, 3, 70, 99, 57, 16, 87, 67, 44, 5, 36, 80, 58, 40, 48, 84, 19, 42, 28, 14, 7, 71, 39]\n"
     ]
    }
   ],
   "source": [
    "# Your code here\n",
    "\n",
    "sample_list_1 = random.sample(list(range(0, 100)), 80)\n",
    "print(sample_list_1)\n"
   ]
  },
  {
   "cell_type": "code",
   "execution_count": 5,
   "metadata": {},
   "outputs": [
    {
     "name": "stdout",
     "output_type": "stream",
     "text": [
      "Counter({59: 1, 31: 1, 24: 1, 72: 1, 15: 1, 34: 1, 75: 1, 38: 1, 95: 1, 43: 1, 53: 1, 73: 1, 27: 1, 60: 1, 41: 1, 8: 1, 89: 1, 13: 1, 77: 1, 90: 1, 0: 1, 11: 1, 25: 1, 4: 1, 98: 1, 10: 1, 50: 1, 6: 1, 12: 1, 97: 1, 51: 1, 81: 1, 2: 1, 35: 1, 47: 1, 74: 1, 9: 1, 29: 1, 46: 1, 96: 1, 62: 1, 94: 1, 79: 1, 20: 1, 54: 1, 65: 1, 45: 1, 91: 1, 78: 1, 26: 1, 30: 1, 68: 1, 33: 1, 55: 1, 88: 1, 17: 1, 85: 1, 93: 1, 3: 1, 70: 1, 99: 1, 57: 1, 16: 1, 87: 1, 67: 1, 44: 1, 5: 1, 36: 1, 80: 1, 58: 1, 40: 1, 48: 1, 84: 1, 19: 1, 42: 1, 28: 1, 14: 1, 7: 1, 71: 1, 39: 1})\n"
     ]
    }
   ],
   "source": [
    "import collections\n",
    "\n",
    "veces = collections.Counter(sample_list_1)\n",
    "print(veces)"
   ]
  },
  {
   "cell_type": "markdown",
   "metadata": {},
   "source": [
    "#### Convert `sample_list_1` to a set called `set1`. Print the length of the set. Is its length still 80?"
   ]
  },
  {
   "cell_type": "code",
   "execution_count": 6,
   "metadata": {},
   "outputs": [
    {
     "name": "stdout",
     "output_type": "stream",
     "text": [
      "80\n"
     ]
    }
   ],
   "source": [
    "# Your code here\n",
    "\n",
    "set1 = set(sample_list_1)\n",
    "print(len(set1))"
   ]
  },
  {
   "cell_type": "code",
   "execution_count": 7,
   "metadata": {},
   "outputs": [
    {
     "name": "stdout",
     "output_type": "stream",
     "text": [
      "{0, 2, 3, 4, 5, 6, 7, 8, 9, 10, 11, 12, 13, 14, 15, 16, 17, 19, 20, 24, 25, 26, 27, 28, 29, 30, 31, 33, 34, 35, 36, 38, 39, 40, 41, 42, 43, 44, 45, 46, 47, 48, 50, 51, 53, 54, 55, 57, 58, 59, 60, 62, 65, 67, 68, 70, 71, 72, 73, 74, 75, 77, 78, 79, 80, 81, 84, 85, 87, 88, 89, 90, 91, 93, 94, 95, 96, 97, 98, 99}\n"
     ]
    }
   ],
   "source": [
    "print(set1)"
   ]
  },
  {
   "cell_type": "markdown",
   "metadata": {},
   "source": [
    "#### Create another list named `sample_list_2` with 80 random values.\n",
    "\n",
    "Requirements:\n",
    "\n",
    "* Each value is an integer falling between 0 and 100.\n",
    "* The values in the list don't have to be unique.\n",
    "\n",
    "*Hint: Use a FOR loop.*"
   ]
  },
  {
   "cell_type": "code",
   "execution_count": 8,
   "metadata": {},
   "outputs": [
    {
     "name": "stdout",
     "output_type": "stream",
     "text": [
      "[36, 59, 21, 22, 65, 22, 61, 1, 29, 78, 10, 90, 22, 48, 82, 7, 55, 0, 7, 89, 77, 87, 99, 3, 77, 52, 27, 28, 81, 71, 27, 53, 13, 17, 45, 63, 33, 1, 5, 34, 35, 79, 31, 50, 49, 22, 35, 71, 99, 9, 75, 35, 36, 1, 91, 66, 28, 47, 84, 28, 68, 84, 94, 32, 56, 75, 94, 77, 12, 84, 98, 60, 89, 21, 29, 78, 56, 13, 85, 70]\n"
     ]
    }
   ],
   "source": [
    "# Your code here\n",
    "sample_list_2 = [random.randint(0,100) for a in range(80)]\n",
    "print(sample_list_2)"
   ]
  },
  {
   "cell_type": "code",
   "execution_count": 9,
   "metadata": {},
   "outputs": [
    {
     "name": "stdout",
     "output_type": "stream",
     "text": [
      "Counter({22: 4, 1: 3, 77: 3, 28: 3, 35: 3, 84: 3, 36: 2, 21: 2, 29: 2, 78: 2, 7: 2, 89: 2, 99: 2, 27: 2, 71: 2, 13: 2, 75: 2, 94: 2, 56: 2, 59: 1, 65: 1, 61: 1, 10: 1, 90: 1, 48: 1, 82: 1, 55: 1, 0: 1, 87: 1, 3: 1, 52: 1, 81: 1, 53: 1, 17: 1, 45: 1, 63: 1, 33: 1, 5: 1, 34: 1, 79: 1, 31: 1, 50: 1, 49: 1, 9: 1, 91: 1, 66: 1, 47: 1, 68: 1, 32: 1, 12: 1, 98: 1, 60: 1, 85: 1, 70: 1})\n"
     ]
    }
   ],
   "source": [
    "import collections\n",
    "\n",
    "veces = collections.Counter(sample_list_2)\n",
    "print(veces)"
   ]
  },
  {
   "cell_type": "markdown",
   "metadata": {},
   "source": [
    "#### Convert `sample_list_2` to a set called `set2`. Print the length of the set. Is its length still 80?"
   ]
  },
  {
   "cell_type": "code",
   "execution_count": 10,
   "metadata": {},
   "outputs": [
    {
     "name": "stdout",
     "output_type": "stream",
     "text": [
      "54\n"
     ]
    }
   ],
   "source": [
    "# Your code here\n",
    "set2 = set(sample_list_2)\n",
    "print(len(set2))\n",
    "# Los sets solo arrojan valores únicos y de forma ordenada"
   ]
  },
  {
   "cell_type": "code",
   "execution_count": 11,
   "metadata": {},
   "outputs": [
    {
     "name": "stdout",
     "output_type": "stream",
     "text": [
      "{0, 1, 3, 5, 7, 9, 10, 12, 13, 17, 21, 22, 27, 28, 29, 31, 32, 33, 34, 35, 36, 45, 47, 48, 49, 50, 52, 53, 55, 56, 59, 60, 61, 63, 65, 66, 68, 70, 71, 75, 77, 78, 79, 81, 82, 84, 85, 87, 89, 90, 91, 94, 98, 99}\n"
     ]
    }
   ],
   "source": [
    "print(set2)"
   ]
  },
  {
   "cell_type": "markdown",
   "metadata": {},
   "source": [
    "#### Identify the elements present in `set1` but not in `set2`. Assign the elements to a new set named `set3`."
   ]
  },
  {
   "cell_type": "code",
   "execution_count": 12,
   "metadata": {},
   "outputs": [
    {
     "name": "stdout",
     "output_type": "stream",
     "text": [
      "{2, 4, 6, 8, 11, 14, 15, 16, 19, 20, 24, 25, 26, 30, 38, 39, 40, 41, 42, 43, 44, 46, 51, 54, 57, 58, 62, 67, 72, 73, 74, 80, 88, 93, 95, 96, 97}\n"
     ]
    }
   ],
   "source": [
    "# Your code here\n",
    "set3= set1-set2\n",
    "print(set3)\n"
   ]
  },
  {
   "cell_type": "markdown",
   "metadata": {},
   "source": [
    "#### Identify the elements present in `set2` but not in `set1`. Assign the elements to a new set named `set4`."
   ]
  },
  {
   "cell_type": "code",
   "execution_count": 13,
   "metadata": {},
   "outputs": [
    {
     "data": {
      "text/plain": [
       "{1, 21, 22, 32, 49, 52, 56, 61, 63, 66, 82}"
      ]
     },
     "execution_count": 13,
     "metadata": {},
     "output_type": "execute_result"
    }
   ],
   "source": [
    "# Your code here\n",
    "set4=set2-set1\n",
    "set4"
   ]
  },
  {
   "cell_type": "markdown",
   "metadata": {},
   "source": [
    "#### Now Identify the elements shared between `set1` and `set2`. Assign the elements to a new set named `set5`."
   ]
  },
  {
   "cell_type": "code",
   "execution_count": 14,
   "metadata": {},
   "outputs": [
    {
     "name": "stdout",
     "output_type": "stream",
     "text": [
      "{0, 3, 5, 7, 9, 10, 12, 13, 17, 27, 28, 29, 31, 33, 34, 35, 36, 45, 47, 48, 50, 53, 55, 59, 60, 65, 68, 70, 71, 75, 77, 78, 79, 81, 84, 85, 87, 89, 90, 91, 94, 98, 99}\n"
     ]
    }
   ],
   "source": [
    "# Your code here\n",
    "set5 = set1.intersection(set2)\n",
    "print(set5)"
   ]
  },
  {
   "cell_type": "markdown",
   "metadata": {},
   "source": [
    "#### What is the relationship among the following values:\n",
    "\n",
    "* len(set1)\n",
    "* len(set2)\n",
    "* len(set3)\n",
    "* len(set4)\n",
    "* len(set5)\n",
    "\n",
    "Use a math formular to represent that relationship. Test your formular with Python code."
   ]
  },
  {
   "cell_type": "code",
   "execution_count": 17,
   "metadata": {},
   "outputs": [
    {
     "ename": "SyntaxError",
     "evalue": "invalid syntax (<ipython-input-17-5bf373b12139>, line 2)",
     "output_type": "error",
     "traceback": [
      "\u001b[0;36m  File \u001b[0;32m\"<ipython-input-17-5bf373b12139>\"\u001b[0;36m, line \u001b[0;32m2\u001b[0m\n\u001b[0;31m    If set3 == set1-set2\u001b[0m\n\u001b[0m       ^\u001b[0m\n\u001b[0;31mSyntaxError\u001b[0m\u001b[0;31m:\u001b[0m invalid syntax\n"
     ]
    }
   ],
   "source": [
    "# Your code here\n",
    "If set3 == set1-set2\n",
    "    print(\"Set 3 es la diferencia entre set1 y set 2\")\n",
    "    \n",
    "If set4 == set2-set1\n",
    "    print(\"Set 4 es la diferencia entre set2 y set 1\")\n",
    "    \n",
    "If set5 == set1.intersection(set2)\n",
    "    print(\"Set 5 es la intersección entre set2 y set 1\")\n"
   ]
  },
  {
   "cell_type": "markdown",
   "metadata": {},
   "source": [
    "#### Create an empty set called `set6`."
   ]
  },
  {
   "cell_type": "code",
   "execution_count": 23,
   "metadata": {},
   "outputs": [
    {
     "name": "stdout",
     "output_type": "stream",
     "text": [
      "set()\n"
     ]
    }
   ],
   "source": [
    "# Your code here\n",
    "set6 = set()\n",
    "print(set6)"
   ]
  },
  {
   "cell_type": "markdown",
   "metadata": {},
   "source": [
    "#### Add `set3` and `set5` to `set6` using the Python Set `update` method."
   ]
  },
  {
   "cell_type": "code",
   "execution_count": 24,
   "metadata": {},
   "outputs": [
    {
     "name": "stdout",
     "output_type": "stream",
     "text": [
      "{0, 2, 3, 4, 5, 6, 7, 8, 9, 10, 11, 12, 13, 14, 15, 16, 17, 19, 20, 24, 25, 26, 27, 28, 29, 30, 31, 33, 34, 35, 36, 38, 39, 40, 41, 42, 43, 44, 45, 46, 47, 48, 50, 51, 53, 54, 55, 57, 58, 59, 60, 62, 65, 67, 68, 70, 71, 72, 73, 74, 75, 77, 78, 79, 80, 81, 84, 85, 87, 88, 89, 90, 91, 93, 94, 95, 96, 97, 98, 99}\n"
     ]
    }
   ],
   "source": [
    "# Your code here\n",
    "\n",
    "set6.update(set3,set5)\n",
    "print(set6)"
   ]
  },
  {
   "cell_type": "markdown",
   "metadata": {},
   "source": [
    "#### Check if `set1` and `set6` are equal."
   ]
  },
  {
   "cell_type": "code",
   "execution_count": 25,
   "metadata": {},
   "outputs": [
    {
     "data": {
      "text/plain": [
       "False"
      ]
     },
     "execution_count": 25,
     "metadata": {},
     "output_type": "execute_result"
    }
   ],
   "source": [
    "# Your code here\n",
    "set1 == set6"
   ]
  },
  {
   "cell_type": "markdown",
   "metadata": {},
   "source": [
    "#### Check if `set1` contains `set2` using the Python Set `issubset` method. Then check if `set1` contains `set3`.*"
   ]
  },
  {
   "cell_type": "code",
   "execution_count": 26,
   "metadata": {},
   "outputs": [
    {
     "name": "stdout",
     "output_type": "stream",
     "text": [
      "False\n",
      "False\n"
     ]
    }
   ],
   "source": [
    "# Your code here\n",
    "print(set2.issubset(set1))\n",
    "print(set3.issubset(set1))"
   ]
  },
  {
   "cell_type": "markdown",
   "metadata": {},
   "source": [
    "#### Using the Python Set `union` method, aggregate `set3`, `set4`, and `set5`. Then aggregate `set1` and `set2`. \n",
    "\n",
    "#### Check if the aggregated values are equal."
   ]
  },
  {
   "cell_type": "code",
   "execution_count": 20,
   "metadata": {},
   "outputs": [
    {
     "name": "stdout",
     "output_type": "stream",
     "text": [
      "{2, 4, 6, 8, 11, 14, 15, 16, 19, 20, 24, 25, 26, 30, 38, 39, 40, 41, 42, 43, 44, 46, 51, 54, 57, 58, 62, 67, 72, 73, 74, 80, 88, 93, 95, 96, 97}\n",
      "{2, 3, 4, 5, 6, 7, 8, 10, 12, 13, 14, 15, 16, 17, 20, 24, 25, 26, 27, 28, 30, 33, 34, 35, 36, 38, 40, 42, 43, 44, 45, 46, 47, 48, 50, 53, 54, 55, 57, 58, 60, 62, 65, 67, 68, 70, 72, 73, 74, 75, 77, 78, 80, 84, 85, 87, 88, 90, 93, 94, 95, 96, 97, 98}\n"
     ]
    },
    {
     "data": {
      "text/plain": [
       "False"
      ]
     },
     "execution_count": 20,
     "metadata": {},
     "output_type": "execute_result"
    }
   ],
   "source": [
    "# Your code here\n",
    "set3.union(set4,set5)\n",
    "print(set3)\n",
    "\n",
    "set1.union(set2)\n",
    "print(set1)\n",
    "\n",
    "set3 == set1"
   ]
  },
  {
   "cell_type": "markdown",
   "metadata": {},
   "source": [
    "#### Using the `pop` method, remove the first element from `set1`."
   ]
  },
  {
   "cell_type": "code",
   "execution_count": 19,
   "metadata": {},
   "outputs": [
    {
     "name": "stdout",
     "output_type": "stream",
     "text": [
      "{2, 3, 4, 5, 6, 7, 8, 10, 12, 13, 14, 15, 16, 17, 20, 24, 25, 26, 27, 28, 30, 33, 34, 35, 36, 38, 40, 42, 43, 44, 45, 46, 47, 48, 50, 53, 54, 55, 57, 58, 60, 62, 65, 67, 68, 70, 72, 73, 74, 75, 77, 78, 80, 84, 85, 87, 88, 90, 93, 94, 95, 96, 97, 98}\n"
     ]
    }
   ],
   "source": [
    "# Your code here\n",
    "set_en_lista = list(set1)\n",
    "set_en_lista.pop(0)\n",
    "set1 = set(set_en_lista)\n",
    "print(set1)"
   ]
  },
  {
   "cell_type": "markdown",
   "metadata": {},
   "source": [
    "#### Remove every element in the following list from `set1` if they are present in the set. Print the remaining elements.\n",
    "\n",
    "```\n",
    "list_to_remove = [1, 9, 11, 19, 21, 29, 31, 39, 41, 49, 51, 59, 61, 69, 71, 79, 81, 89, 91, 99]\n",
    "```"
   ]
  },
  {
   "cell_type": "code",
   "execution_count": 18,
   "metadata": {},
   "outputs": [
    {
     "name": "stdout",
     "output_type": "stream",
     "text": [
      "{0, 2, 3, 4, 5, 6, 7, 8, 10, 12, 13, 14, 15, 16, 17, 20, 24, 25, 26, 27, 28, 30, 33, 34, 35, 36, 38, 40, 42, 43, 44, 45, 46, 47, 48, 50, 53, 54, 55, 57, 58, 60, 62, 65, 67, 68, 70, 72, 73, 74, 75, 77, 78, 80, 84, 85, 87, 88, 90, 93, 94, 95, 96, 97, 98}\n"
     ]
    }
   ],
   "source": [
    "# Your code here\n",
    "list_to_remove = [1, 9, 11, 19, 21, 29, 31, 39, 41, 49, 51, 59, 61, 69, 71, 79, 81, 89, 91, 99]\n",
    "list_to_remove =  set(list_to_remove)\n",
    "set1= set1-list_to_remove\n",
    "print(set1)"
   ]
  },
  {
   "cell_type": "code",
   "execution_count": null,
   "metadata": {},
   "outputs": [],
   "source": []
  }
 ],
 "metadata": {
  "kernelspec": {
   "display_name": "Python 3",
   "language": "python",
   "name": "python3"
  },
  "language_info": {
   "codemirror_mode": {
    "name": "ipython",
    "version": 3
   },
   "file_extension": ".py",
   "mimetype": "text/x-python",
   "name": "python",
   "nbconvert_exporter": "python",
   "pygments_lexer": "ipython3",
   "version": "3.8.5"
  }
 },
 "nbformat": 4,
 "nbformat_minor": 2
}
